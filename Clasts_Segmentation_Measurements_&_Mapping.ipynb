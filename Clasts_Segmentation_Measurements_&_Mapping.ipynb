{
 "cells": [
  {
   "cell_type": "markdown",
   "metadata": {},
   "source": [
    "# Grain Size Quantification and Mapping of Pebbles (Soloy et al. 2020)\n",
    "\n",
    "This code allows the detection and measurement of the non-overlapping clasts visible on scales terrestrial photographs and on georeferenced UAV derived ortho-images, as described by Soloy et al. (2020).\n",
    "\n",
    "The instance segmentation model named Mask R-CNN trained and use for this purpose was first developped by He et al. (2017).\n",
    "The present code is based on the Matterport's implementation (https://github.com/matterport/Mask_RCNN)\n",
    "\n",
    "- Soloy, A.; Turki, I.; Fournier, M.; Costa, S.; Peuziat, B.; Lecoq, N. A Deep Learning-Based Method for Quantifying and Mapping the Grain Size on Pebble Beaches. Remote Sens. 2020, 12, 3659.\n",
    "- He, K.; Gkioxari, G.; Dollar, P.; Girshick, R. Mask R-CNN. In Proceedings of the 2017 IEEE International Conference on Computer Vision (ICCV), Venice, Italy, 22–29 October 2017; pp. 2980–2988."
   ]
  },
  {
   "cell_type": "markdown",
   "metadata": {},
   "source": [
    "## Configurations"
   ]
  },
  {
   "cell_type": "code",
   "execution_count": null,
   "metadata": {},
   "outputs": [],
   "source": [
    "import os\n",
    "import numpy as np\n",
    "from os import listdir\n",
    "from os.path import isfile, join\n",
    "from functions import clasts_rasterize\n",
    "from functions import clasts_detection\n",
    "import pandas as pd\n",
    "\n",
    "# Root directory of the project\n",
    "RT_DIR = os.getcwd()"
   ]
  },
  {
   "cell_type": "markdown",
   "metadata": {},
   "source": [
    "## Load Paths to data"
   ]
  },
  {
   "cell_type": "code",
   "execution_count": null,
   "metadata": {},
   "outputs": [],
   "source": [
    "# Paths to directories of images to be measured\n",
    "datadirpath = os.path.join(RT_DIR, \"datasets\")\n",
    "terrestrialdirpath = os.path.join(datadirpath, \"terrestrial\")\n",
    "UAVdirpath = os.path.join(datadirpath, \"UAV\")"
   ]
  },
  {
   "cell_type": "markdown",
   "metadata": {},
   "source": [
    "## Run Detection & Measurements"
   ]
  },
  {
   "cell_type": "markdown",
   "metadata": {},
   "source": [
    "### On terrestrial scaled photographs"
   ]
  },
  {
   "cell_type": "code",
   "execution_count": null,
   "metadata": {
    "scrolled": false
   },
   "outputs": [],
   "source": [
    "# List of image files to be analyzed \n",
    "# TO DO: Adapt the file extension to the appropriate type (jpg, tif, png, etc.) or erase the condition from \"&\"\n",
    "\n",
    "filenames = [f for f in listdir(terrestrialdirpath) if isfile(join(terrestrialdirpath, f)) & (f[-4:]=='.jpg')]\n",
    "numboffiles=np.shape(filenames)\n",
    "\n",
    "for i in range(0, numboffiles[0]):\n",
    "    print('['+str(i)+'] '+filenames[i])"
   ]
  },
  {
   "cell_type": "code",
   "execution_count": null,
   "metadata": {
    "scrolled": false
   },
   "outputs": [],
   "source": [
    "# Arguments list\n",
    "mode = \"terrestrial\"\n",
    "devicemode = \"GPU\"    #Chose between GPU and CPU depending on your configuration. (see https://github.com/matterport/Mask_RCNN)\n",
    "devicenumber = 1      # Default value is 0 (i.e. first device in the list)\n",
    "\n",
    "resolution = 0.001\n",
    "\n",
    "#Detection & measurement operation\n",
    "for i in range(0, numboffiles[0]):\n",
    "    imgpath=os.path.join(terrestrialdirpath,filenames[i])\n",
    "    clasts = clasts_detection.clasts_detect(mode = mode, resolution = resolution, imgpath = imgpath, plot = True, saveplot = True, saveresults = True)\n",
    "\n",
    "# Detects and measure the clasts on a scaled image that can be either terrestrial (i.e. photograph of known resolution) or UAV derived (georeferenced ortho-image)\n",
    "# mode: \"terrestrial\", \"UAV\"\n",
    "# resolution: resolution of a terrestrial image (default = 0.001 m/pixel)\n",
    "# imgpath: full path of the image/ortho-image\n",
    "# metric_cropsize: Window size used for croping a UAV image into tiles (default = 1m)\n",
    "# plot: (boolean) Display detections and histograms\n",
    "# saveplot: (boolean) Save the detection and histogram figures\n",
    "# saveresults: (boolean) Save the clast sizes into a CSV file\n",
    "# devicemode: \"gpu\", \"cpu\" (default = \"gpu\") (see tesorflow-gpu documentation)\n",
    "# devicenumber: id number of the device to be used (default = 0)"
   ]
  },
  {
   "cell_type": "markdown",
   "metadata": {},
   "source": [
    "### On UAV-derived geotiff ortho-images"
   ]
  },
  {
   "cell_type": "code",
   "execution_count": null,
   "metadata": {},
   "outputs": [],
   "source": [
    "# List of image raster files to be analyzed\n",
    "# Files must be provided in a tif format using UTM or any other projected coordinate system allowing for metric measurements.\n",
    "filenames = [f for f in listdir(UAVdirpath) if isfile(join(UAVdirpath, f)) & (f[-4:]=='.tif')]\n",
    "numboffiles = np.shape(filenames)\n",
    "\n",
    "for i in range(0, numboffiles[0]):\n",
    "    print('[' + str(i) + '] ' + filenames[i])"
   ]
  },
  {
   "cell_type": "code",
   "execution_count": null,
   "metadata": {
    "scrolled": true
   },
   "outputs": [],
   "source": [
    "# Arguments list\n",
    "mode = \"UAV\"\n",
    "devicemode = \"GPU\"    # Chose between GPU and CPU depending on your configuration. (see https://github.com/matterport/Mask_RCNN)\n",
    "devicenumber = 1\n",
    "metric_cropsize = 1   # Larger values compute faster but are likely to provide lower numbers of detections.\n",
    "                      # 1 m is an empirically proven good value for clast of pebble size.\n",
    "kstart = 0\n",
    "ksaveint = 25\n",
    "\n",
    "#Detection & measurement operation\n",
    "for i in range(0, numboffiles[0]):\n",
    "    imgpath = os.path.join(UAVdirpath,filenames[i]) #path of each image to be analyzed\n",
    "    clasts_list = clasts_detection.clasts_detect(mode = mode, \n",
    "                                                 metric_cropsize = metric_cropsize, \n",
    "                                                 imgpath = imgpath, \n",
    "                                                 plot = False, \n",
    "                                                 saveplot = False, \n",
    "                                                 saveresults = True, \n",
    "                                                 devicemode = devicemode, \n",
    "                                                 devicenumber = devicenumber, \n",
    "                                                 kstart = kstart, \n",
    "                                                 ksaveint = ksaveint)\n",
    "\n",
    "# Detects and measures the clasts on a scaled image that can be either terrestrial (i.e. photograph of known resolution) or UAV derived (georeferenced ortho-image)\n",
    "# mode: \"terrestrial\", \"UAV\"\n",
    "# resolution: resolution of a terrestrial image (default = 0.001 m/pixel)\n",
    "# imgpath: full path of the image/ortho-image\n",
    "# metric_cropsize: Window size used for croping a UAV image into tiles (default = 1m)\n",
    "# plot: (boolean) Display detections and histograms\n",
    "# saveplot: (boolean) Save the detection and histogram figures\n",
    "# saveresults: (boolean) Save the clast sizes into a CSV file\n",
    "# devicemode: \"gpu\", \"cpu\" (default = \"gpu\") (see tesorflow-gpu documentation)\n",
    "# devicenumber: id number of the device to be used (default = 0)\n",
    "# kstart: Starting itteration step, (in case of resuming a previously stopped processing)(default = 0)\n",
    "# ksaveint: Intervalle step between 2 checkpoint saving (default = 1%)"
   ]
  },
  {
   "cell_type": "markdown",
   "metadata": {},
   "source": [
    "## Post-Processing Rasterization"
   ]
  },
  {
   "cell_type": "code",
   "execution_count": null,
   "metadata": {},
   "outputs": [],
   "source": [
    "# Paths to the different files required for rasterization\n",
    "ClastImageFilePath = os.path.join(UAVdirpath, 'example_n1_of_UAV_ortho_image.tif')\n",
    "ClastFileName = 'example_n1_of_UAV_ortho_image_window_size=1m_individual_clast_values.csv'\n",
    "ClastSizeListCSVFilePath = os.path.join(UAVdirpath, ClastFileName)\n",
    "\n",
    "# Arguments list\n",
    "field = 'Clast_length'\n",
    "parameter='average'\n",
    "cellsize=1\n",
    "percentile=0.5\n",
    "plot=False\n",
    "figuresize = (15,20)\n",
    "if parameter=='quantile':\n",
    "    paramname='D'+str(int(percentile*100))\n",
    "else:\n",
    "    paramname=parameter\n",
    "RasterFileWritingPath = os.path.join(UAVdirpath, ClastFileName[:-4]+'_field='+field+'_parameter='+paramname+'_cellsize='+str(cellsize)+'m.tif')\n",
    "\n",
    "#Rasterization operation\n",
    "clasts_raster = clasts_rasterize.clasts_rasterize(ClastImageFilePath, \n",
    "                                                  ClastSizeListCSVFilePath, \n",
    "                                                  RasterFileWritingPath, \n",
    "                                                  field, \n",
    "                                                  parameter, \n",
    "                                                  cellsize, \n",
    "                                                  percentile, \n",
    "                                                  plot, \n",
    "                                                  figuresize)\n",
    "\n",
    "#     Converts the clast information from vector type to raster type.\n",
    "#     ClastImageFilePath: Path of the geotiff file used to realize the clast detection and measurement\n",
    "#     ClastSizeListCSVFilePath: Path of the CSV file containing the list of previously detected and measured clasts\n",
    "#     RasterFileWritingPath: Path to be used for writing the raster produced by the present function\n",
    "#     field: field (i.e. clast dimension) to be considered for computation (default = \"Clast_length\"):\n",
    "#         - Clast_length\n",
    "#         - Clast_width\n",
    "#         - Ellipse_major_axis\n",
    "#         - Ellipse_minor_axis\n",
    "#         - Equivalent_diameter\n",
    "#         - Score\n",
    "#         - Orientation\n",
    "#         - Surface_area\n",
    "#         - Clast_elongation\n",
    "#         - Ellipse_elongation\n",
    "#         - Clast_circularity\n",
    "#         - Ellipse_circularity\n",
    "#         - Deposition_velocity: Current velocity (m/s) related to the clast deposition according to Hjulström's diagram #DOI: 10.1115/OMAE2013-10524\n",
    "#         - Erosion_velocity: Current velocity (m/s) required in order to mobilize the clast according to Hjulström's diagram #DOI: 10.1115/OMAE2013-10524\n",
    "#     parameter: Parameter to be computed for each cell: \n",
    "#         - \"quantile\": returns the quantile valued for the threshold specified by the \"percentile\" keyword \n",
    "#         - \"density\": returns the density of objects per cell size unit\n",
    "#         - \"average\": returns the average value for each cell\n",
    "#         - \"std\": returns the standard deviation for each cell\n",
    "#         - \"kurtosis\": returns the kurtosis size for each cell\n",
    "#         - \"skewness\": returns the skewness value for each cell\n",
    "#     cellsize: Wanted output raster cell size (same unit as the geotiff file used to realize the clast detection and measurement\n",
    "#     percentile: Percentile to be used for computing the quantile of each cell (default = 0.5, i.e. median)\n",
    "#     plot: Switch for displaying the produced maps (default = True)\n",
    "#     figuresize: Size of the displayed figure (default = (10,10))"
   ]
  }
 ],
 "metadata": {
  "kernelspec": {
   "display_name": "Python 3",
   "language": "python",
   "name": "python3"
  },
  "language_info": {
   "codemirror_mode": {
    "name": "ipython",
    "version": 3
   },
   "file_extension": ".py",
   "mimetype": "text/x-python",
   "name": "python",
   "nbconvert_exporter": "python",
   "pygments_lexer": "ipython3",
   "version": "3.6.9"
  }
 },
 "nbformat": 4,
 "nbformat_minor": 2
}
